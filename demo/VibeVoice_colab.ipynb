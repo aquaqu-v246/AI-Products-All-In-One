{
  "cells": [
    {
      "cell_type": "markdown",
      "metadata": {
        "id": "view-in-github",
        "colab_type": "text"
      },
      "source": [
        "<a href=\"https://colab.research.google.com/github/aquaqu-v246/AI-Products-All-In-One/blob/main/demo/VibeVoice_colab.ipynb\" target=\"_parent\"><img src=\"https://colab.research.google.com/assets/colab-badge.svg\" alt=\"Open In Colab\"/></a>"
      ]
    },
    {
      "cell_type": "code",
      "source": [
        "!nvidia-smi --query-gpu=name,memory.total,driver_version --format=csv,noheader"
      ],
      "metadata": {
        "colab": {
          "base_uri": "https://localhost:8080/"
        },
        "id": "popWyy46K6L-",
        "outputId": "08bf21e2-86dd-4bae-f09f-df68b8f1fda1"
      },
      "id": "popWyy46K6L-",
      "execution_count": null,
      "outputs": [
        {
          "output_type": "stream",
          "name": "stdout",
          "text": [
            "NVIDIA A100-SXM4-40GB, 40960 MiB, 550.54.15\n"
          ]
        }
      ]
    },
    {
      "cell_type": "code",
      "execution_count": null,
      "id": "Yc1N9EHswFxA",
      "metadata": {
        "id": "Yc1N9EHswFxA",
        "outputId": "5e31db5c-b960-4406-d272-10b78cee5551",
        "colab": {
          "base_uri": "https://localhost:8080/"
        }
      },
      "outputs": [
        {
          "output_type": "stream",
          "name": "stdout",
          "text": [
            "Writing /content/my_transcript.txt\n"
          ]
        }
      ],
      "source": [
        "%%writefile /content/my_transcript.txt\n",
        "xxxx\n",
        "xxxx"
      ]
    },
    {
      "cell_type": "code",
      "execution_count": null,
      "id": "4wxJ6QHM-ZOb",
      "metadata": {
        "id": "4wxJ6QHM-ZOb",
        "outputId": "0035d223-0f37-4642-a38c-21965d408a34",
        "colab": {
          "base_uri": "https://localhost:8080/",
          "height": 394
        }
      },
      "outputs": [
        {
          "output_type": "stream",
          "name": "stdout",
          "text": [
            "🔐 Authenticating Google account ...\n",
            "📁 Mounting Google Drive (attempt 1/3) ...\n",
            "Mounted at /content/drive\n",
            "✅ Drive mounted at /content/drive\n",
            "⬇️ Cloning repo ...\n",
            "\n",
            "$ git clone --branch main --depth 1 https://github.com/aquaqu-v246/VibeVoice.git \"/content/VibeVoice\"\n",
            "\n",
            "$ uv pip --quiet install --system -e \"/content/VibeVoice\"\n",
            "✅ Dependencies installed.\n",
            "\n",
            "$ HF_XET_HIGH_PERFORMANCE=1 hf download vibevoice/VibeVoice-7B --local-dir \"/content/models/VibeVoice-7B\"\n",
            "✅ Model ready.\n",
            "\n",
            "$ /usr/bin/python3 /content/VibeVoice/demo/inference_from_file.py --model_path /content/models/VibeVoice-7B --txt_path /content/my_transcript.txt --speaker_names Xinran Bowen\n",
            "✅ Found output: /content/outputs/my_transcript_generated.wav\n",
            "✅ Saved to Drive as: /content/drive/MyDrive/vibevoice_outputs/case01_20250913-164238.wav\n"
          ]
        },
        {
          "output_type": "display_data",
          "data": {
            "text/plain": [
              "<IPython.core.display.Javascript object>"
            ],
            "application/javascript": [
              "\n",
              "    async function download(id, filename, size) {\n",
              "      if (!google.colab.kernel.accessAllowed) {\n",
              "        return;\n",
              "      }\n",
              "      const div = document.createElement('div');\n",
              "      const label = document.createElement('label');\n",
              "      label.textContent = `Downloading \"${filename}\": `;\n",
              "      div.appendChild(label);\n",
              "      const progress = document.createElement('progress');\n",
              "      progress.max = size;\n",
              "      div.appendChild(progress);\n",
              "      document.body.appendChild(div);\n",
              "\n",
              "      const buffers = [];\n",
              "      let downloaded = 0;\n",
              "\n",
              "      const channel = await google.colab.kernel.comms.open(id);\n",
              "      // Send a message to notify the kernel that we're ready.\n",
              "      channel.send({})\n",
              "\n",
              "      for await (const message of channel.messages) {\n",
              "        // Send a message to notify the kernel that we're ready.\n",
              "        channel.send({})\n",
              "        if (message.buffers) {\n",
              "          for (const buffer of message.buffers) {\n",
              "            buffers.push(buffer);\n",
              "            downloaded += buffer.byteLength;\n",
              "            progress.value = downloaded;\n",
              "          }\n",
              "        }\n",
              "      }\n",
              "      const blob = new Blob(buffers, {type: 'application/binary'});\n",
              "      const a = document.createElement('a');\n",
              "      a.href = window.URL.createObjectURL(blob);\n",
              "      a.download = filename;\n",
              "      div.appendChild(a);\n",
              "      a.click();\n",
              "      div.remove();\n",
              "    }\n",
              "  "
            ]
          },
          "metadata": {}
        },
        {
          "output_type": "display_data",
          "data": {
            "text/plain": [
              "<IPython.core.display.Javascript object>"
            ],
            "application/javascript": [
              "download(\"download_eb515d16-b0c2-4cd3-9d91-1a66b6e3724d\", \"my_transcript_generated.wav\", 2348844)"
            ]
          },
          "metadata": {}
        },
        {
          "output_type": "stream",
          "name": "stdout",
          "text": [
            "⬇️ Browser download triggered (async).\n",
            "⏳ Waiting 60s before releasing resources …\n"
          ]
        }
      ],
      "source": [
        "# -*- coding: utf-8 -*-\n",
        "from google.colab import drive, files, runtime, auth\n",
        "import os, shutil, pathlib, traceback, time, subprocess, sys\n",
        "\n",
        "# ========= 可调参数 =========\n",
        "OUTPUT_FILE = \"/content/outputs/my_transcript_generated.wav\"\n",
        "\n",
        "# —— 保存到 Drive 的目录与“自定义保存名” —— #\n",
        "DRIVE_DIR         = \"/content/drive/MyDrive/vibevoice_outputs\"\n",
        "DRIVE_SAVE_NAME   = \"case01.wav\"   # 你想在网盘里保存的文件名（与源文件名可不同）\n",
        "ADD_TIMESTAMP     = True           # True: 保存名后加 _YYYYmmdd-HHMMSS\n",
        "AUTO_DEDUP        = True           # True: 若同名存在自动加 -1, -2…\n",
        "\n",
        "WAIT_SECS         = 60             # 触发下载后等待多少秒再释放\n",
        "\n",
        "# —— 从网上获取 —— #\n",
        "REPO_URL          = \"https://github.com/aquaqu-v246/VibeVoice.git\"\n",
        "REPO_DIR          = \"/content/VibeVoice\"\n",
        "MODEL_ID          = \"vibevoice/VibeVoice-7B\"\n",
        "MODEL_DIR         = \"/content/models/VibeVoice-7B\"\n",
        "\n",
        "# —— 推理输入 —— #\n",
        "TXT_PATH          = \"/content/my_transcript.txt\"\n",
        "SPEAKERS          = [\"Xinran\", \"Bowen\"]   # 按需修改\n",
        "\n",
        "# ========= 工具函数 =========\n",
        "def sh(cmd: str, env=None):\n",
        "    print(f\"\\n$ {cmd}\")\n",
        "    subprocess.run(cmd, shell=True, check=True, env=env)\n",
        "\n",
        "def try_mount_drive(max_retries=3, sleep_sec=3):\n",
        "    \"\"\"挂载 Drive；成功 True，失败 False（不中断主流程）\"\"\"\n",
        "    if os.path.isdir(\"/content/drive/MyDrive\"):\n",
        "        print(\"✅ Drive already mounted:\", \"/content/drive/MyDrive\")\n",
        "        return True\n",
        "    try:\n",
        "        print(\"🔐 Authenticating Google account ...\")\n",
        "        auth.authenticate_user()  # 弹出授权\n",
        "    except Exception as e:\n",
        "        print(f\"⚠️ Auth failed: {e}\")\n",
        "    for i in range(1, max_retries + 1):\n",
        "        try:\n",
        "            print(f\"📁 Mounting Google Drive (attempt {i}/{max_retries}) ...\")\n",
        "            drive.mount('/content/drive', force_remount=False)\n",
        "            print(\"✅ Drive mounted at /content/drive\")\n",
        "            return True\n",
        "        except Exception as e:\n",
        "            print(f\"⚠️ Mount failed: {e}\")\n",
        "            time.sleep(sleep_sec)\n",
        "    print(\"❌ Drive mount failed after retries.\")\n",
        "    return False\n",
        "\n",
        "def dedup_path(path):\n",
        "    \"\"\"若文件已存在，加 -1, -2… 避免覆盖\"\"\"\n",
        "    if not os.path.exists(path):\n",
        "        return path\n",
        "    base, ext = os.path.splitext(path)\n",
        "    k = 1\n",
        "    while True:\n",
        "        cand = f\"{base}-{k}{ext}\"\n",
        "        if not os.path.exists(cand):\n",
        "            return cand\n",
        "        k += 1\n",
        "\n",
        "def build_drive_dst(drive_dir, desired_name, add_timestamp, auto_dedup):\n",
        "    base, ext = os.path.splitext(desired_name)\n",
        "    if add_timestamp:\n",
        "        ts = time.strftime(\"%Y%m%d-%H%M%S\")\n",
        "        desired_name = f\"{base}_{ts}{ext}\"\n",
        "    dst = os.path.join(drive_dir, desired_name)\n",
        "    if auto_dedup:\n",
        "        dst = dedup_path(dst)\n",
        "    return dst\n",
        "\n",
        "# ========= 主流程 =========\n",
        "mounted = False\n",
        "try:\n",
        "    # 0) 先挂载 Drive（需要授权）\n",
        "    mounted = try_mount_drive()\n",
        "    if mounted:\n",
        "        pathlib.Path(DRIVE_DIR).mkdir(parents=True, exist_ok=True)\n",
        "\n",
        "    # 1) 从网上获取仓库（始终在线克隆 / 更新）\n",
        "    if not os.path.isdir(REPO_DIR):\n",
        "        print(\"⬇️ Cloning repo ...\")\n",
        "        sh(f'git clone --branch main --depth 1 {REPO_URL} \"{REPO_DIR}\"')\n",
        "    else:\n",
        "        print(\"🔄 Repo exists. Updating ...\")\n",
        "        sh(f'git -C \"{REPO_DIR}\" pull --ff-only')\n",
        "\n",
        "    # 2) 安装依赖\n",
        "    sh(f'uv pip --quiet install --system -e \"{REPO_DIR}\"')\n",
        "    print(\"✅ Dependencies installed.\")\n",
        "\n",
        "    # 3) 从网上获取模型（每次会话都下载/校验；HF CLI 会跳过已存在且一致的文件）\n",
        "    pathlib.Path(MODEL_DIR).mkdir(parents=True, exist_ok=True)\n",
        "    sh(f'HF_XET_HIGH_PERFORMANCE=1 hf download {MODEL_ID} --local-dir \"{MODEL_DIR}\"')\n",
        "    print(\"✅ Model ready.\")\n",
        "\n",
        "    # 4) 实时推理（继承父进程输出，tqdm 原地刷新）\n",
        "    cmd = [\n",
        "        sys.executable,\n",
        "        f\"{REPO_DIR}/demo/inference_from_file.py\",\n",
        "        \"--model_path\", MODEL_DIR,\n",
        "        \"--txt_path\", TXT_PATH,\n",
        "        \"--speaker_names\", *SPEAKERS\n",
        "    ]\n",
        "    print(\"\\n$ \" + \" \".join(cmd))\n",
        "    subprocess.run(cmd, check=True)\n",
        "\n",
        "    # 5) 确认输出\n",
        "    if not os.path.exists(OUTPUT_FILE):\n",
        "        raise FileNotFoundError(f\"Output file not found: {OUTPUT_FILE}\")\n",
        "    print(f\"✅ Found output: {OUTPUT_FILE}\")\n",
        "\n",
        "    # 6) 保存到 Drive（自定义保存名 + 可选时间戳/避重）\n",
        "    drive_dst = None\n",
        "    if mounted:\n",
        "        desired_name = DRIVE_SAVE_NAME or os.path.basename(OUTPUT_FILE)\n",
        "        drive_dst = build_drive_dst(DRIVE_DIR, desired_name, ADD_TIMESTAMP, AUTO_DEDUP)\n",
        "        shutil.copy2(OUTPUT_FILE, drive_dst)\n",
        "        if os.path.getsize(OUTPUT_FILE) != os.path.getsize(drive_dst):\n",
        "            raise RuntimeError(\"Size mismatch after copy to Drive.\")\n",
        "        print(f\"✅ Saved to Drive as: {drive_dst}\")\n",
        "    else:\n",
        "        print(\"⚠️ Drive not mounted; skip saving to Drive.\")\n",
        "\n",
        "\n",
        "\n",
        "except Exception:\n",
        "    traceback.print_exc()\n",
        "\n",
        "finally:\n",
        "    try:\n",
        "        if mounted:\n",
        "            drive.flush_and_unmount()  # 刷新/卸载 Drive\n",
        "    except Exception:\n",
        "        pass\n",
        "    runtime.unassign()  # 释放 GPU/断开运行时\n"
      ]
    }
  ],
  "metadata": {
    "accelerator": "GPU",
    "colab": {
      "gpuType": "A100",
      "name": "VibeVoice_Colab.ipynb",
      "provenance": [],
      "include_colab_link": true
    },
    "kernelspec": {
      "display_name": "Python 3",
      "name": "python3"
    },
    "language_info": {
      "codemirror_mode": {
        "name": "ipython",
        "version": 3
      },
      "file_extension": ".py",
      "mimetype": "text/x-python",
      "name": "python",
      "nbconvert_exporter": "python",
      "pygments_lexer": "ipython3",
      "version": "3.10.11"
    }
  },
  "nbformat": 4,
  "nbformat_minor": 5
}