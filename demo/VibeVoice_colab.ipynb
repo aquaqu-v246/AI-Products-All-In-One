{
  "cells": [
    {
      "cell_type": "markdown",
      "metadata": {
        "id": "view-in-github",
        "colab_type": "text"
      },
      "source": [
        "<a href=\"https://colab.research.google.com/github/aquaqu-v246/AI-Products-All-In-One/blob/main/demo/VibeVoice_colab.ipynb\" target=\"_parent\"><img src=\"https://colab.research.google.com/assets/colab-badge.svg\" alt=\"Open In Colab\"/></a>"
      ]
    },
    {
      "cell_type": "code",
      "source": [
        "!nvidia-smi --query-gpu=name,memory.total,driver_version --format=csv,noheader"
      ],
      "metadata": {
        "colab": {
          "base_uri": "https://localhost:8080/"
        },
        "id": "popWyy46K6L-",
        "outputId": "13233f65-925c-4498-8923-8e62ad37f6ee"
      },
      "id": "popWyy46K6L-",
      "execution_count": 1,
      "outputs": [
        {
          "output_type": "stream",
          "name": "stdout",
          "text": [
            "NVIDIA A100-SXM4-40GB, 40960 MiB, 550.54.15\n"
          ]
        }
      ]
    },
    {
      "cell_type": "code",
      "execution_count": 2,
      "id": "Yc1N9EHswFxA",
      "metadata": {
        "id": "Yc1N9EHswFxA",
        "outputId": "56f8ecc7-5617-4abd-d36f-02729a2e485d",
        "colab": {
          "base_uri": "https://localhost:8080/"
        }
      },
      "outputs": [
        {
          "output_type": "stream",
          "name": "stdout",
          "text": [
            "Writing /content/my_transcript.txt\n"
          ]
        }
      ],
      "source": [
        "%%writefile /content/my_transcript.txt\n",
        "xxxx\n",
        "xxxx"
      ]
    },
    {
      "cell_type": "code",
      "execution_count": 3,
      "id": "4wxJ6QHM-ZOb",
      "metadata": {
        "id": "4wxJ6QHM-ZOb",
        "outputId": "aaee9331-203d-494c-f2ae-e5d6176e5056",
        "colab": {
          "base_uri": "https://localhost:8080/",
          "height": 358
        }
      },
      "outputs": [
        {
          "output_type": "stream",
          "name": "stdout",
          "text": [
            "🔐 Authenticating Google account ...\n",
            "📁 Mounting Google Drive (attempt 1/3) ...\n",
            "Mounted at /content/drive\n",
            "✅ Drive mounted at /content/drive\n",
            "⬇️ Cloning repo ...\n",
            "\n",
            "$ git clone --branch main --depth 1 https://github.com/aquaqu-v246/VibeVoice.git \"/content/VibeVoice\"\n",
            "✅ 语音文件已复制到仓库：/content/VibeVoice/demo/voices/zh-aquaqu_man.wav\n",
            "\n",
            "$ uv pip --quiet install --system -e \"/content/VibeVoice\"\n",
            "✅ Dependencies installed.\n",
            "\n",
            "$ HF_XET_HIGH_PERFORMANCE=1 hf download vibevoice/VibeVoice-7B --local-dir \"/content/models/VibeVoice-7B\"\n",
            "✅ Model ready.\n",
            "\n",
            "$ /usr/bin/python3 /content/VibeVoice/demo/inference_from_file.py --model_path /content/models/VibeVoice-7B --txt_path /content/my_transcript.txt --speaker_names Xinran aquaqu\n",
            "✅ Found output: /content/outputs/my_transcript_generated.wav\n",
            "✅ Saved to Drive as: /content/drive/MyDrive/vibevoice_outputs/test_20250915-130208.wav\n"
          ]
        }
      ],
      "source": [
        "# -*- coding: utf-8 -*-\n",
        "from google.colab import drive, files, runtime, auth\n",
        "import os, shutil, pathlib, traceback, time, subprocess, sys\n",
        "\n",
        "# ========= 可调参数 =========\n",
        "OUTPUT_FILE = \"/content/outputs/my_transcript_generated.wav\"\n",
        "\n",
        "# —— 保存到 Drive 的目录与“自定义保存名” —— #\n",
        "DRIVE_DIR         = \"/content/drive/MyDrive/vibevoice_outputs\"\n",
        "DRIVE_SAVE_NAME   = \"case01.wav\"   # 你想在网盘里保存的文件名（与源文件名可不同）\n",
        "ADD_TIMESTAMP     = True           # True: 保存名后加 _YYYYmmdd-HHMMSS\n",
        "AUTO_DEDUP        = True           # True: 若同名存在自动加 -1, -2…\n",
        "\n",
        "WAIT_SECS         = 60             # 触发下载后等待多少秒再释放\n",
        "\n",
        "# —— 从网上获取 —— #\n",
        "REPO_URL          = \"https://github.com/aquaqu-v246/VibeVoice.git\"\n",
        "REPO_DIR          = \"/content/VibeVoice\"\n",
        "MODEL_ID          = \"vibevoice/VibeVoice-7B\"\n",
        "MODEL_DIR         = \"/content/models/VibeVoice-7B\"\n",
        "\n",
        "# —— 推理输入 —— #\n",
        "TXT_PATH          = \"/content/my_transcript.txt\"\n",
        "SPEAKERS          = [\"Xinran\", \"aquaqu\"]   # 按需修改\n",
        "\n",
        "# —— 新增：Drive 里的语音源 与 仓库内目标路径 —— #\n",
        "DRIVE_VOICE_SRC   = \"/content/drive/MyDrive/voices/aquaqu.wav\"         # 你的网盘文件\n",
        "REPO_VOICE_DST    = \"demo/voices/zh-aquaqu_man.wav\"                    # 相对 REPO_DIR 的目标\n",
        "\n",
        "# ========= 工具函数 =========\n",
        "def sh(cmd: str, env=None):\n",
        "    print(f\"\\n$ {cmd}\")\n",
        "    subprocess.run(cmd, shell=True, check=True, env=env)\n",
        "\n",
        "def try_mount_drive(max_retries=3, sleep_sec=3):\n",
        "    \"\"\"挂载 Drive；成功 True，失败 False（不中断主流程）\"\"\"\n",
        "    if os.path.isdir(\"/content/drive/MyDrive\"):\n",
        "        print(\"✅ Drive already mounted:\", \"/content/drive/MyDrive\")\n",
        "        return True\n",
        "    try:\n",
        "        print(\"🔐 Authenticating Google account ...\")\n",
        "        auth.authenticate_user()  # 弹出授权\n",
        "    except Exception as e:\n",
        "        print(f\"⚠️ Auth failed: {e}\")\n",
        "    for i in range(1, max_retries + 1):\n",
        "        try:\n",
        "            print(f\"📁 Mounting Google Drive (attempt {i}/{max_retries}) ...\")\n",
        "            drive.mount('/content/drive', force_remount=False)\n",
        "            print(\"✅ Drive mounted at /content/drive\")\n",
        "            return True\n",
        "        except Exception as e:\n",
        "            print(f\"⚠️ Mount failed: {e}\")\n",
        "            time.sleep(sleep_sec)\n",
        "    print(\"❌ Drive mount failed after retries.\")\n",
        "    return False\n",
        "\n",
        "def dedup_path(path):\n",
        "    \"\"\"若文件已存在，加 -1, -2… 避免覆盖\"\"\"\n",
        "    if not os.path.exists(path):\n",
        "        return path\n",
        "    base, ext = os.path.splitext(path)\n",
        "    k = 1\n",
        "    while True:\n",
        "        cand = f\"{base}-{k}{ext}\"\n",
        "        if not os.path.exists(cand):\n",
        "            return cand\n",
        "        k += 1\n",
        "\n",
        "def build_drive_dst(drive_dir, desired_name, add_timestamp, auto_dedup):\n",
        "    base, ext = os.path.splitext(desired_name)\n",
        "    if add_timestamp:\n",
        "        ts = time.strftime(\"%Y%m%d-%H%M%S\")\n",
        "        desired_name = f\"{base}_{ts}{ext}\"\n",
        "    dst = os.path.join(drive_dir, desired_name)\n",
        "    if auto_dedup:\n",
        "        dst = dedup_path(dst)\n",
        "    return dst\n",
        "\n",
        "# ========= 主流程 =========\n",
        "mounted = False\n",
        "try:\n",
        "    # 0) 先挂载 Drive（需要授权）\n",
        "    mounted = try_mount_drive()\n",
        "    if mounted:\n",
        "        pathlib.Path(DRIVE_DIR).mkdir(parents=True, exist_ok=True)\n",
        "\n",
        "    # 1) 从网上获取仓库（始终在线克隆 / 更新）\n",
        "    if not os.path.isdir(REPO_DIR):\n",
        "        print(\"⬇️ Cloning repo ...\")\n",
        "        sh(f'git clone --branch main --depth 1 {REPO_URL} \"{REPO_DIR}\"')\n",
        "    else:\n",
        "        print(\"🔄 Repo exists. Updating ...\")\n",
        "        sh(f'git -C \"{REPO_DIR}\" pull --ff-only')\n",
        "\n",
        "    # 1.1) 新增：从 Google Drive 复制语音文件到仓库指定位置\n",
        "    try:\n",
        "        if not mounted:\n",
        "            print(\"⚠️ Drive 尚未挂载，无法复制语音文件。\")\n",
        "        else:\n",
        "            repo_voice_dst_abs = os.path.join(REPO_DIR, REPO_VOICE_DST)\n",
        "            pathlib.Path(os.path.dirname(repo_voice_dst_abs)).mkdir(parents=True, exist_ok=True)\n",
        "\n",
        "            if not os.path.exists(DRIVE_VOICE_SRC):\n",
        "                raise FileNotFoundError(\n",
        "                    f\"未找到源语音文件：{DRIVE_VOICE_SRC}\\n\"\n",
        "                    f\"请确认其位于 Google Drive 的对应路径（通常是 /content/drive/MyDrive/voices/aquaqu.wav）。\"\n",
        "                )\n",
        "\n",
        "            shutil.copy2(DRIVE_VOICE_SRC, repo_voice_dst_abs)\n",
        "            if os.path.getsize(DRIVE_VOICE_SRC) != os.path.getsize(repo_voice_dst_abs):\n",
        "                raise RuntimeError(\"从 Drive 复制到仓库后，文件大小不一致。\")\n",
        "            print(f\"✅ 语音文件已复制到仓库：{repo_voice_dst_abs}\")\n",
        "    except Exception as e:\n",
        "        print(f\"⚠️ 复制语音文件失败：{e}\")\n",
        "\n",
        "    # 2) 安装依赖\n",
        "    sh(f'uv pip --quiet install --system -e \"{REPO_DIR}\"')\n",
        "    print(\"✅ Dependencies installed.\")\n",
        "\n",
        "    # 3) 从网上获取模型（每次会话都下载/校验；HF CLI 会跳过已存在且一致的文件）\n",
        "    pathlib.Path(MODEL_DIR).mkdir(parents=True, exist_ok=True)\n",
        "    sh(f'HF_XET_HIGH_PERFORMANCE=1 hf download {MODEL_ID} --local-dir \"{MODEL_DIR}\"')\n",
        "    print(\"✅ Model ready.\")\n",
        "\n",
        "    # 4) 实时推理（继承父进程输出，tqdm 原地刷新）\n",
        "    cmd = [\n",
        "        sys.executable,\n",
        "        f\"{REPO_DIR}/demo/inference_from_file.py\",\n",
        "        \"--model_path\", MODEL_DIR,\n",
        "        \"--txt_path\", TXT_PATH,\n",
        "        \"--speaker_names\", *SPEAKERS\n",
        "    ]\n",
        "    print(\"\\n$ \" + \" \".join(cmd))\n",
        "    subprocess.run(cmd, check=True)\n",
        "\n",
        "    # 5) 确认输出\n",
        "    if not os.path.exists(OUTPUT_FILE):\n",
        "        raise FileNotFoundError(f\"Output file not found: {OUTPUT_FILE}\")\n",
        "    print(f\"✅ Found output: {OUTPUT_FILE}\")\n",
        "\n",
        "    # 6) 保存到 Drive（自定义保存名 + 可选时间戳/避重）\n",
        "    drive_dst = None\n",
        "    if mounted:\n",
        "        desired_name = DRIVE_SAVE_NAME or os.path.basename(OUTPUT_FILE)\n",
        "        drive_dst = build_drive_dst(DRIVE_DIR, desired_name, ADD_TIMESTAMP, AUTO_DEDUP)\n",
        "        shutil.copy2(OUTPUT_FILE, drive_dst)\n",
        "        if os.path.getsize(OUTPUT_FILE) != os.path.getsize(drive_dst):\n",
        "            raise RuntimeError(\"Size mismatch after copy to Drive.\")\n",
        "        print(f\"✅ Saved to Drive as: {drive_dst}\")\n",
        "    else:\n",
        "        print(\"⚠️ Drive not mounted; skip saving to Drive.\")\n",
        "\n",
        "except Exception:\n",
        "    traceback.print_exc()\n",
        "\n",
        "finally:\n",
        "    try:\n",
        "        if mounted:\n",
        "            drive.flush_and_unmount()  # 刷新/卸载 Drive\n",
        "    except Exception:\n",
        "        pass\n",
        "    runtime.unassign()  # 释放 GPU/断开运行时\n"
      ]
    }
  ],
  "metadata": {
    "accelerator": "GPU",
    "colab": {
      "gpuType": "A100",
      "name": "VibeVoice_Colab.ipynb",
      "provenance": [],
      "include_colab_link": true
    },
    "kernelspec": {
      "display_name": "Python 3",
      "name": "python3"
    },
    "language_info": {
      "codemirror_mode": {
        "name": "ipython",
        "version": 3
      },
      "file_extension": ".py",
      "mimetype": "text/x-python",
      "name": "python",
      "nbconvert_exporter": "python",
      "pygments_lexer": "ipython3",
      "version": "3.10.11"
    }
  },
  "nbformat": 4,
  "nbformat_minor": 5
}